{
 "cells": [
  {
   "cell_type": "code",
   "execution_count": 3,
   "id": "c33b1e83",
   "metadata": {},
   "outputs": [],
   "source": [
    "import pandas as pd\n",
    "import numpy as np\n",
    "import geopandas\n",
    "import os\n",
    "import cv2\n",
    "from tqdm import tqdm"
   ]
  },
  {
   "cell_type": "code",
   "execution_count": 4,
   "id": "bb92a589",
   "metadata": {},
   "outputs": [],
   "source": [
    "route_locations = geopandas.read_file(r'D:\\TrafficSign\\MilkweedFrameLocationsUNR\\MilkweedFrameLocationsUNR.shp')"
   ]
  },
  {
   "cell_type": "code",
   "execution_count": 3,
   "id": "800d1bd3",
   "metadata": {},
   "outputs": [],
   "source": [
    "Detection_sheet_list = os.listdir(r'F:\\Out\\Results')"
   ]
  },
  {
   "cell_type": "code",
   "execution_count": 4,
   "id": "f1accd6d",
   "metadata": {
    "scrolled": true
   },
   "outputs": [],
   "source": [
    "total_detection = []\n",
    "for f in Detection_sheet_list:\n",
    "    total_detection.append(pd.read_csv(os.path.join(r'F:\\Out\\Results',f)))"
   ]
  },
  {
   "cell_type": "code",
   "execution_count": 5,
   "id": "c8b8d00b",
   "metadata": {},
   "outputs": [],
   "source": [
    "total_detection = pd.concat(total_detection)"
   ]
  },
  {
   "cell_type": "code",
   "execution_count": 7,
   "id": "cf2c5f28",
   "metadata": {
    "scrolled": true
   },
   "outputs": [
    {
     "name": "stderr",
     "output_type": "stream",
     "text": [
      "100%|██████████████████████████████████████████████████████████████████████████████| 9798/9798 [09:07<00:00, 17.88it/s]\n"
     ]
    }
   ],
   "source": [
    "valid_classes = []\n",
    "geometries = []\n",
    "ratioes = []\n",
    "confs = []\n",
    "for ind in tqdm(range(len(total_detection))):\n",
    "    data_info = total_detection.iloc[ind]\n",
    "    Conf = data_info.Conf\n",
    "    image_size = cv2.imread(data_info.FileName).shape\n",
    "    length = data_info.X2 - data_info.X1\n",
    "    height = data_info.Y2 - data_info.Y1\n",
    "    ratio = length*height/(image_size[0]*image_size[1])\n",
    "    info_location = data_info.FileName.split('\\\\')\n",
    "    frame_ind = int(info_location[-1].split('.')[0].split('_')[1])\n",
    "    session = info_location[-4]\n",
    "    if len(route_locations.loc[(route_locations.SESSION_NA == session)&(route_locations.FRAME == frame_ind)]) == 0:\n",
    "        continue\n",
    "    location_index = route_locations.loc[(route_locations.SESSION_NA == session)&(route_locations.FRAME == frame_ind)].index[0]\n",
    "    \n",
    "    geometries.append(route_locations.iloc[location_index].geometry)\n",
    "    valid_classes.append(data_info.Class)\n",
    "    ratioes.append(ratio)\n",
    "    confs.append(Conf)"
   ]
  },
  {
   "cell_type": "code",
   "execution_count": 11,
   "id": "2f678daa",
   "metadata": {},
   "outputs": [],
   "source": [
    "geoframes = pd.DataFrame({\n",
    "    'Class':valid_classes,\n",
    "    'Ratio':ratioes,\n",
    "    'Conf':confs,\n",
    "    'geometry':geometries\n",
    "})"
   ]
  },
  {
   "cell_type": "code",
   "execution_count": 13,
   "id": "db550724",
   "metadata": {},
   "outputs": [],
   "source": [
    "gdf = geopandas.GeoDataFrame(geoframes, geometry=\"geometry\")\n"
   ]
  },
  {
   "cell_type": "code",
   "execution_count": 19,
   "id": "1ff0725c",
   "metadata": {},
   "outputs": [],
   "source": [
    "gdf.crs = route_locations.crs"
   ]
  },
  {
   "cell_type": "code",
   "execution_count": 21,
   "id": "1913f264",
   "metadata": {},
   "outputs": [],
   "source": [
    "gdf.to_file(r'D:\\TrafficSign\\Out\\result.shp')"
   ]
  },
  {
   "cell_type": "markdown",
   "id": "f0347695",
   "metadata": {},
   "source": [
    "## Milkweed"
   ]
  },
  {
   "cell_type": "code",
   "execution_count": 5,
   "id": "3f2646c6",
   "metadata": {},
   "outputs": [],
   "source": [
    "Detection_sheet_list = pd.read_csv(r'D:/UNR_Milkweed_Data/FirstRoundDetection.csv')"
   ]
  },
  {
   "cell_type": "code",
   "execution_count": 9,
   "id": "74037695",
   "metadata": {},
   "outputs": [],
   "source": [
    "data_info = Detection_sheet_list.iloc[0].FileName"
   ]
  },
  {
   "cell_type": "code",
   "execution_count": 12,
   "id": "61e8fa92",
   "metadata": {},
   "outputs": [
    {
     "data": {
      "text/plain": [
       "'11020CH_+'"
      ]
     },
     "execution_count": 12,
     "metadata": {},
     "output_type": "execute_result"
    }
   ],
   "source": [
    "session = data_info.split('\\\\')[-4]\n",
    "frame_ind = int(data_info.split('\\\\')[-1].split('.')[0].split('_')[-1])\n"
   ]
  },
  {
   "cell_type": "code",
   "execution_count": 26,
   "id": "5adc9e75",
   "metadata": {},
   "outputs": [
    {
     "data": {
      "text/plain": [
       "['Route',\n",
       " 'Photos',\n",
       " '6DO',\n",
       " '-',\n",
       " 'Renamed',\n",
       " 'Route',\n",
       " 'Photos',\n",
       " '6DO',\n",
       " '-',\n",
       " 'Renamed',\n",
       " 'F',\n",
       " '00052-']"
      ]
     },
     "execution_count": 26,
     "metadata": {},
     "output_type": "execute_result"
    }
   ],
   "source": [
    "data_name.split('\\\\')[-1].split('.')[0].split('_')"
   ]
  },
  {
   "cell_type": "code",
   "execution_count": 32,
   "id": "b8d1e5c0",
   "metadata": {},
   "outputs": [
    {
     "name": "stderr",
     "output_type": "stream",
     "text": [
      "100%|████████████████████████████████████████████████████████████████████████████| 99552/99552 [21:32<00:00, 77.00it/s]\n"
     ]
    }
   ],
   "source": [
    "valid_classes = []\n",
    "confs = []\n",
    "data_names = []\n",
    "geometries = []\n",
    "for ind in tqdm(range(len(Detection_sheet_list))):\n",
    "    try:\n",
    "        data_name = Detection_sheet_list.iloc[ind].FileName\n",
    "        session = data_name.split('\\\\')[-4]\n",
    "        frame_ind = int(data_name.split('\\\\')[-1].split('.')[0].split('_')[-1])\n",
    "        Conf = Detection_sheet_list.iloc[ind].Conf\n",
    "    #     image_size = cv2.imread(data_info.FileName).shape\n",
    "        location_index = route_locations.loc[(route_locations.SESSION_NA == session)&(route_locations.FRAME == frame_ind)].index[0]\n",
    "        \n",
    "    except:\n",
    "        continue\n",
    "    data_names.append(data_name)\n",
    "    geometries.append(route_locations.iloc[location_index].geometry)\n",
    "    valid_classes.append(Detection_sheet_list.iloc[ind].Class)\n",
    "    confs.append(Conf)"
   ]
  },
  {
   "cell_type": "code",
   "execution_count": 33,
   "id": "7b2619ce",
   "metadata": {},
   "outputs": [],
   "source": [
    "geoframes = pd.DataFrame({\n",
    "    'Class':valid_classes,\n",
    "    'Conf':confs,\n",
    "    'FileName':data_names,\n",
    "    'geometry':geometries\n",
    "})\n",
    "gdf = geopandas.GeoDataFrame(geoframes, geometry=\"geometry\")\n",
    "gdf.crs = route_locations.crs\n",
    "gdf.to_file(r'D:\\UNR_Milkweed_Data\\result.shp')"
   ]
  },
  {
   "cell_type": "code",
   "execution_count": 34,
   "id": "133a2724",
   "metadata": {},
   "outputs": [
    {
     "data": {
      "text/html": [
       "<div>\n",
       "<style scoped>\n",
       "    .dataframe tbody tr th:only-of-type {\n",
       "        vertical-align: middle;\n",
       "    }\n",
       "\n",
       "    .dataframe tbody tr th {\n",
       "        vertical-align: top;\n",
       "    }\n",
       "\n",
       "    .dataframe thead th {\n",
       "        text-align: right;\n",
       "    }\n",
       "</style>\n",
       "<table border=\"1\" class=\"dataframe\">\n",
       "  <thead>\n",
       "    <tr style=\"text-align: right;\">\n",
       "      <th></th>\n",
       "      <th>Class</th>\n",
       "      <th>Conf</th>\n",
       "      <th>FileName</th>\n",
       "      <th>geometry</th>\n",
       "    </tr>\n",
       "  </thead>\n",
       "  <tbody>\n",
       "    <tr>\n",
       "      <th>0</th>\n",
       "      <td>1</td>\n",
       "      <td>0.381833</td>\n",
       "      <td>\\\\agnt-gis.agnt.unr.edu\\faculty\\pweisberg\\publ...</td>\n",
       "      <td>POINT Z (346607.533 4363178.660 1181.199)</td>\n",
       "    </tr>\n",
       "    <tr>\n",
       "      <th>1</th>\n",
       "      <td>0</td>\n",
       "      <td>0.255101</td>\n",
       "      <td>\\\\agnt-gis.agnt.unr.edu\\faculty\\pweisberg\\publ...</td>\n",
       "      <td>POINT Z (346627.164 4366477.935 1183.222)</td>\n",
       "    </tr>\n",
       "    <tr>\n",
       "      <th>2</th>\n",
       "      <td>0</td>\n",
       "      <td>0.252810</td>\n",
       "      <td>\\\\agnt-gis.agnt.unr.edu\\faculty\\pweisberg\\publ...</td>\n",
       "      <td>POINT Z (346627.164 4366477.935 1183.222)</td>\n",
       "    </tr>\n",
       "    <tr>\n",
       "      <th>3</th>\n",
       "      <td>1</td>\n",
       "      <td>0.258067</td>\n",
       "      <td>\\\\agnt-gis.agnt.unr.edu\\faculty\\pweisberg\\publ...</td>\n",
       "      <td>POINT Z (347811.951 4332630.827 1283.134)</td>\n",
       "    </tr>\n",
       "    <tr>\n",
       "      <th>4</th>\n",
       "      <td>0</td>\n",
       "      <td>0.285857</td>\n",
       "      <td>\\\\agnt-gis.agnt.unr.edu\\faculty\\pweisberg\\publ...</td>\n",
       "      <td>POINT Z (349677.196 4341448.788 1194.563)</td>\n",
       "    </tr>\n",
       "    <tr>\n",
       "      <th>...</th>\n",
       "      <td>...</td>\n",
       "      <td>...</td>\n",
       "      <td>...</td>\n",
       "      <td>...</td>\n",
       "    </tr>\n",
       "    <tr>\n",
       "      <th>73391</th>\n",
       "      <td>1</td>\n",
       "      <td>0.308737</td>\n",
       "      <td>\\\\agnt-gis.agnt.unr.edu\\faculty\\pweisberg\\publ...</td>\n",
       "      <td>POINT Z (319763.262 4382720.003 1241.391)</td>\n",
       "    </tr>\n",
       "    <tr>\n",
       "      <th>73392</th>\n",
       "      <td>1</td>\n",
       "      <td>0.457540</td>\n",
       "      <td>\\\\agnt-gis.agnt.unr.edu\\faculty\\pweisberg\\publ...</td>\n",
       "      <td>POINT Z (319681.277 4382785.326 1243.301)</td>\n",
       "    </tr>\n",
       "    <tr>\n",
       "      <th>73393</th>\n",
       "      <td>1</td>\n",
       "      <td>0.321237</td>\n",
       "      <td>\\\\agnt-gis.agnt.unr.edu\\faculty\\pweisberg\\publ...</td>\n",
       "      <td>POINT Z (319599.457 4382850.925 1244.868)</td>\n",
       "    </tr>\n",
       "    <tr>\n",
       "      <th>73394</th>\n",
       "      <td>1</td>\n",
       "      <td>0.336112</td>\n",
       "      <td>\\\\agnt-gis.agnt.unr.edu\\faculty\\pweisberg\\publ...</td>\n",
       "      <td>POINT Z (319555.347 4382886.200 1245.424)</td>\n",
       "    </tr>\n",
       "    <tr>\n",
       "      <th>73395</th>\n",
       "      <td>1</td>\n",
       "      <td>0.282845</td>\n",
       "      <td>\\\\agnt-gis.agnt.unr.edu\\faculty\\pweisberg\\publ...</td>\n",
       "      <td>POINT Z (319517.624 4382916.553 1245.806)</td>\n",
       "    </tr>\n",
       "  </tbody>\n",
       "</table>\n",
       "<p>73396 rows × 4 columns</p>\n",
       "</div>"
      ],
      "text/plain": [
       "       Class      Conf                                           FileName  \\\n",
       "0          1  0.381833  \\\\agnt-gis.agnt.unr.edu\\faculty\\pweisberg\\publ...   \n",
       "1          0  0.255101  \\\\agnt-gis.agnt.unr.edu\\faculty\\pweisberg\\publ...   \n",
       "2          0  0.252810  \\\\agnt-gis.agnt.unr.edu\\faculty\\pweisberg\\publ...   \n",
       "3          1  0.258067  \\\\agnt-gis.agnt.unr.edu\\faculty\\pweisberg\\publ...   \n",
       "4          0  0.285857  \\\\agnt-gis.agnt.unr.edu\\faculty\\pweisberg\\publ...   \n",
       "...      ...       ...                                                ...   \n",
       "73391      1  0.308737  \\\\agnt-gis.agnt.unr.edu\\faculty\\pweisberg\\publ...   \n",
       "73392      1  0.457540  \\\\agnt-gis.agnt.unr.edu\\faculty\\pweisberg\\publ...   \n",
       "73393      1  0.321237  \\\\agnt-gis.agnt.unr.edu\\faculty\\pweisberg\\publ...   \n",
       "73394      1  0.336112  \\\\agnt-gis.agnt.unr.edu\\faculty\\pweisberg\\publ...   \n",
       "73395      1  0.282845  \\\\agnt-gis.agnt.unr.edu\\faculty\\pweisberg\\publ...   \n",
       "\n",
       "                                        geometry  \n",
       "0      POINT Z (346607.533 4363178.660 1181.199)  \n",
       "1      POINT Z (346627.164 4366477.935 1183.222)  \n",
       "2      POINT Z (346627.164 4366477.935 1183.222)  \n",
       "3      POINT Z (347811.951 4332630.827 1283.134)  \n",
       "4      POINT Z (349677.196 4341448.788 1194.563)  \n",
       "...                                          ...  \n",
       "73391  POINT Z (319763.262 4382720.003 1241.391)  \n",
       "73392  POINT Z (319681.277 4382785.326 1243.301)  \n",
       "73393  POINT Z (319599.457 4382850.925 1244.868)  \n",
       "73394  POINT Z (319555.347 4382886.200 1245.424)  \n",
       "73395  POINT Z (319517.624 4382916.553 1245.806)  \n",
       "\n",
       "[73396 rows x 4 columns]"
      ]
     },
     "execution_count": 34,
     "metadata": {},
     "output_type": "execute_result"
    }
   ],
   "source": [
    "gdf"
   ]
  }
 ],
 "metadata": {
  "kernelspec": {
   "display_name": "Python 3 (ipykernel)",
   "language": "python",
   "name": "python3"
  },
  "language_info": {
   "codemirror_mode": {
    "name": "ipython",
    "version": 3
   },
   "file_extension": ".py",
   "mimetype": "text/x-python",
   "name": "python",
   "nbconvert_exporter": "python",
   "pygments_lexer": "ipython3",
   "version": "3.11.0"
  }
 },
 "nbformat": 4,
 "nbformat_minor": 5
}
