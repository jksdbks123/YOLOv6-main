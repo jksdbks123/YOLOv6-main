{
 "cells": [
  {
   "cell_type": "code",
   "execution_count": 135,
   "id": "d24ee597",
   "metadata": {},
   "outputs": [],
   "source": [
    "import numpy as np \n",
    "import cv2\n",
    "import os\n",
    "from tqdm import tqdm\n",
    "import xml.etree.ElementTree as ET\n",
    "import json\n",
    "import shutil\n",
    "from PIL import Image"
   ]
  },
  {
   "cell_type": "code",
   "execution_count": null,
   "id": "497fdd51",
   "metadata": {},
   "outputs": [],
   "source": [
    "# 1.stop, 2.railroad 3.yield 4.traffic light"
   ]
  },
  {
   "cell_type": "code",
   "execution_count": 2,
   "id": "ea93876b",
   "metadata": {},
   "outputs": [],
   "source": [
    "# data format: [(x_max + x_min)/2,(y_max + y_min)/2,x_max - x_min,y_max - y_min])]"
   ]
  },
  {
   "cell_type": "code",
   "execution_count": 144,
   "id": "586387de",
   "metadata": {},
   "outputs": [],
   "source": [
    "label_list = os.listdir(r'D:\\TrafficSign\\Mapillary\\Data\\Labels_S')\n",
    "image_list = os.listdir(r'D:\\TrafficSign\\Mapillary\\Data\\Images_S')"
   ]
  },
  {
   "cell_type": "code",
   "execution_count": 148,
   "id": "33065fb2",
   "metadata": {},
   "outputs": [
    {
     "data": {
      "text/plain": [
       "-1"
      ]
     },
     "execution_count": 148,
     "metadata": {},
     "output_type": "execute_result"
    }
   ],
   "source": [
    "label_name = label_list[20]\n",
    "image_name = label_name.replace('txt','jpg')\n",
    "image = cv2.imread(os.path.join(r'D:\\TrafficSign\\Mapillary\\Data\\Images_S',image_name))\n",
    "file_path = os.path.join(r'D:\\TrafficSign\\Mapillary\\Data\\Labels_S',label_name)\n",
    "with open(file_path, 'r') as f:\n",
    "    lines = f.readlines()\n",
    "lines = [line.strip() for line in lines]\n",
    "\n",
    "for i in range(len(lines)):\n",
    "    label_test = lines[i].split(' ')\n",
    "    bbox = np.array(label_test[1:]).astype(np.float32)\n",
    "    x1 = int((bbox[0] - 0.5 * bbox[2]) * image.shape[1])\n",
    "    y1 = int((bbox[1] - 0.5 * bbox[3]) * image.shape[0])\n",
    "    x2 = int((bbox[0] + 0.5 * bbox[2]) * image.shape[1])\n",
    "    y2 = int((bbox[1] + 0.5 * bbox[3]) * image.shape[0])\n",
    "    cv2.rectangle(image, (x1, y1), (x2, y2), (255,0,0), 5)\n",
    "image = cv2.resize(image, (1024, 1024))\n",
    "cv2.imshow('a',image)\n",
    "cv2.waitKey(0) # 0==wait forever\n"
   ]
  },
  {
   "cell_type": "code",
   "execution_count": 131,
   "id": "0ef5608b",
   "metadata": {},
   "outputs": [],
   "source": [
    "label_list = os.listdir(r'D:\\TrafficSign\\archive\\annotations')\n",
    "image_list = os.listdir(r'D:\\TrafficSign\\archive\\images')"
   ]
  },
  {
   "cell_type": "code",
   "execution_count": 132,
   "id": "4d30dbb6",
   "metadata": {},
   "outputs": [],
   "source": [
    "Label_target_path = 'D:\\TrafficSign\\Mapillary\\Data\\Labels_S'\n",
    "Image_target_path = 'D:\\TrafficSign\\Mapillary\\Data\\Images_S'"
   ]
  },
  {
   "cell_type": "code",
   "execution_count": null,
   "id": "8011ab6c",
   "metadata": {},
   "outputs": [],
   "source": [
    "list_dir = os.listdir(Image_target_path)\n",
    "for i in tqdm(range(len(list_dir))):\n",
    "    if list_dir[i].split('.')[-1] == 'png':\n",
    "        im1 = Image.open(os.path.join(Image_target_path,list_dir[i]))\n",
    "        im1 = im1.convert('RGB')\n",
    "        im1.save(os.path.join(Image_target_path,list_dir[i].replace('png','jpg')))"
   ]
  },
  {
   "cell_type": "code",
   "execution_count": 155,
   "id": "ff041a2d",
   "metadata": {},
   "outputs": [
    {
     "name": "stderr",
     "output_type": "stream",
     "text": [
      "100%|███████████████████████████████████████████████████████████████████████████████| 877/877 [00:03<00:00, 241.07it/s]\n"
     ]
    }
   ],
   "source": [
    "labels = []\n",
    "bboxes = []\n",
    "for ind in tqdm(range(len(label_list))):\n",
    "#     image = cv2.imread(os.path.join(r'D:\\TrafficSign\\archive\\images',image_list[ind]))\n",
    "    image = Image.open(os.path.join(r'D:\\TrafficSign\\archive\\images',image_list[ind]))\n",
    "    image = image.convert('RGB')\n",
    "    tree = ET.parse(os.path.join(r'D:\\TrafficSign\\archive\\annotations',label_list[ind]))\n",
    "    root = tree.getroot()\n",
    "    for ob in root:\n",
    "        if ob.tag == 'object':\n",
    "            xmin,ymin,xmax,ymax = int(ob[5][0].text),int(ob[5][1].text),int(ob[5][2].text),int(ob[5][3].text)\n",
    "            coord = [((xmax + xmin)/2)/image.shape[0],((ymax + ymin)/2)/image.shape[1],(xmax - xmin)/image.shape[0],(ymax - ymin)/image.shape[1]]\n",
    "            coord = np.array(coord).astype('str')\n",
    "            labels.append(ob[0].text)"
   ]
  },
  {
   "cell_type": "code",
   "execution_count": 143,
   "id": "0223c384",
   "metadata": {},
   "outputs": [
    {
     "name": "stderr",
     "output_type": "stream",
     "text": [
      "100%|████████████████████████████████████████████████████████████████████████████████| 877/877 [00:20<00:00, 42.39it/s]\n"
     ]
    }
   ],
   "source": [
    "# ind = 6\n",
    "labels = []\n",
    "bboxes = []\n",
    "for ind in tqdm(range(len(label_list))):\n",
    "    image = Image.open(os.path.join(r'D:\\TrafficSign\\archive\\images',image_list[ind]))\n",
    "    image = image.convert('RGB')\n",
    "    tree = ET.parse(os.path.join(r'D:\\TrafficSign\\archive\\annotations',label_list[ind]))\n",
    "    root = tree.getroot()\n",
    "    interested_flag = False\n",
    "    for ob in root:\n",
    "        if ob.tag == 'object':\n",
    "            if ob[0].text == 'trafficlight':\n",
    "                interested_flag = True\n",
    "                break\n",
    "        if interested_flag:\n",
    "            break\n",
    "    if interested_flag:\n",
    "#         shutil.copy(os.path.join(r'D:\\TrafficSign\\archive\\images',image_list[ind]), os.path.join(Image_target_path,image_list[ind]))\n",
    "        image.save(os.path.join(Image_target_path,image_list[ind].replace('png','jpg')))\n",
    "        with open(os.path.join(Label_target_path,image_list[ind].split('.')[0]+'.txt'), 'w') as label_file:\n",
    "            for ob in root:\n",
    "                if ob.tag == 'object':\n",
    "                    xmin,ymin,xmax,ymax = int(ob[5][0].text),int(ob[5][1].text),int(ob[5][2].text),int(ob[5][3].text)\n",
    "                    coord = [((xmax + xmin)/2)/image.size[0],((ymax + ymin)/2)/image.size[1],(xmax - xmin)/image.size[0],(ymax - ymin)/image.size[1]]\n",
    "                    coord = np.array(coord).astype('str')\n",
    "                    class_ind = 0\n",
    "                    label = ob[0].text\n",
    "                    if label == 'stop':\n",
    "                        class_ind = 0\n",
    "                        label_file.write('{} '.format(class_ind) + ' '.join(coord))\n",
    "                        label_file.write('\\n')\n",
    "                    elif label == 'trafficlight':\n",
    "                        class_ind = 3\n",
    "                        label_file.write('{} '.format(class_ind) + ' '.join(coord))\n",
    "                        label_file.write('\\n')\n",
    "    "
   ]
  },
  {
   "cell_type": "markdown",
   "id": "8fceda61",
   "metadata": {},
   "source": [
    "## Mapillary Prep"
   ]
  },
  {
   "cell_type": "code",
   "execution_count": null,
   "id": "0051f3c7",
   "metadata": {},
   "outputs": [],
   "source": [
    "# 1.stop, 2.railroad 3.yield 4.traffic light"
   ]
  },
  {
   "cell_type": "code",
   "execution_count": 128,
   "id": "cf437b7f",
   "metadata": {},
   "outputs": [],
   "source": [
    "label_path = r'D:\\TrafficSign\\Mapillary\\mtsd_v2_fully_annotated\\annotations'\n",
    "image_path = r'D:\\TrafficSign\\Mapillary\\images'\n",
    "label_list = os.listdir(label_path)\n",
    "image_list = os.listdir(image_path)"
   ]
  },
  {
   "cell_type": "code",
   "execution_count": 129,
   "id": "b0ee7468",
   "metadata": {},
   "outputs": [],
   "source": [
    "Label_target_path = 'D:\\TrafficSign\\Mapillary\\Data\\Labels'\n",
    "Image_target_path = 'D:\\TrafficSign\\Mapillary\\Data\\Images'\n",
    "Targets = ['regulatory--stop', 'warning--railroad-crossing', 'regulatory--yield']\n"
   ]
  },
  {
   "cell_type": "code",
   "execution_count": 5,
   "id": "9c89eeb3",
   "metadata": {},
   "outputs": [],
   "source": [
    "i = 13\n",
    "f = image_list[i]\n",
    "label_name = f.split('.')[0]+'.json'\n",
    "with open(os.path.join(label_path,label_name), 'r') as j:\n",
    "    anno = json.loads(j.read())\n",
    "target_image_path = os.path.join(image_path,f)\n",
    "image = cv2.imread(target_image_path)\n",
    "for ind in range(len(anno['objects'])):\n",
    "    label = anno['objects'][ind]['label']\n",
    "    interested_flag = False\n",
    "    for class_ind,t in enumerate(Targets):\n",
    "        if t in label:\n",
    "            interested_flag = True\n",
    "            break\n",
    "    if interested_flag:\n",
    "        break\n",
    "if interested_flag:\n",
    "#         print('yes')\n",
    "    shutil.copy(target_image_path, os.path.join(Image_target_path,f))\n",
    "    with open(os.path.join(Label_target_path,f.split('.')[0]+'.txt'), 'w') as label_file:\n",
    "        for ind in range(len(anno['objects'])):\n",
    "            label = anno['objects'][ind]['label']\n",
    "            interested_flag = False\n",
    "            for class_ind,t in enumerate(Targets):\n",
    "                if t in label:\n",
    "                    interested_flag = True\n",
    "                    break\n",
    "            if interested_flag:\n",
    "                bbox = anno['objects'][ind]['bbox']\n",
    "                xmin,ymin,xmax,ymax = int(bbox['xmin']),int(bbox['ymin']),int(bbox['xmax']),int(bbox['ymax'])\n",
    "                coord = [((xmax + xmin)/2)/image.shape[1],((ymax + ymin)/2)/image.shape[0],(xmax - xmin)/image.shape[1],(ymax - ymin)/image.shape[0]]\n",
    "                coord = np.array(coord).astype('str')\n",
    "                label_file.write('{} '.format(class_ind) + ' '.join(coord))\n",
    "                label_file.write('\\n')"
   ]
  },
  {
   "cell_type": "code",
   "execution_count": 130,
   "id": "dc941cff",
   "metadata": {
    "scrolled": true
   },
   "outputs": [
    {
     "name": "stderr",
     "output_type": "stream",
     "text": [
      "13344it [15:44, 14.13it/s]\n"
     ]
    }
   ],
   "source": [
    "for i,f in tqdm(enumerate(image_list)):\n",
    "    label_name = f.split('.')[0]+'.json'\n",
    "    if label_name not in label_list:\n",
    "        continue\n",
    "    with open(os.path.join(label_path,label_name), 'r') as j:\n",
    "        anno = json.loads(j.read())\n",
    "    target_image_path = os.path.join(image_path,f)\n",
    "    image = cv2.imread(target_image_path)\n",
    "    for ind in range(len(anno['objects'])):\n",
    "        label = anno['objects'][ind]['label']\n",
    "        interested_flag = False\n",
    "        for class_ind,t in enumerate(Targets):\n",
    "            if (t in label)&(label.split('--')[-1]=='g1'):\n",
    "                interested_flag = True\n",
    "                break\n",
    "        if interested_flag:\n",
    "            break\n",
    "    if interested_flag:\n",
    "#         print('yes')\n",
    "        shutil.copy(target_image_path, os.path.join(Image_target_path,f))\n",
    "        with open(os.path.join(Label_target_path,f.split('.')[0]+'.txt'), 'w') as label_file:\n",
    "            for ind in range(len(anno['objects'])):\n",
    "                label = anno['objects'][ind]['label']\n",
    "                interested_flag = False\n",
    "                for class_ind,t in enumerate(Targets):\n",
    "                    if (t in label)&(label.split('--')[-1]=='g1'):\n",
    "                        interested_flag = True\n",
    "                        break\n",
    "                if interested_flag:\n",
    "#                     print(label,i)\n",
    "                    bbox = anno['objects'][ind]['bbox']\n",
    "                    xmin,ymin,xmax,ymax = int(bbox['xmin']),int(bbox['ymin']),int(bbox['xmax']),int(bbox['ymax'])\n",
    "                    coord = [((xmax + xmin)/2)/anno['width'],((ymax + ymin)/2)/anno['height'],(xmax - xmin)/anno['width'],(ymax - ymin)/anno['height']]\n",
    "                    coord = np.array(coord).astype('str')\n",
    "                    label_file.write('{} '.format(class_ind) + ' '.join(coord))\n",
    "                    label_file.write('\\n')\n"
   ]
  },
  {
   "cell_type": "markdown",
   "id": "07607bef",
   "metadata": {},
   "source": [
    "# Vis"
   ]
  },
  {
   "cell_type": "code",
   "execution_count": 108,
   "id": "a487719d",
   "metadata": {},
   "outputs": [
    {
     "data": {
      "text/plain": [
       "-1"
      ]
     },
     "execution_count": 108,
     "metadata": {},
     "output_type": "execute_result"
    }
   ],
   "source": [
    "image_ind = 500\n",
    "label_name = image_list[image_ind].split('.')[0]+'.json'\n",
    "with open(os.path.join(label_path,label_name), 'r') as j:\n",
    "    anno = json.loads(j.read())\n",
    "image = cv2.imread(os.path.join(image_path,image_list[image_ind]))\n",
    "for ind in range(len(anno['objects'])):\n",
    "    bbox = anno['objects'][ind]['bbox']\n",
    "    xmin,ymin,xmax,ymax = int(bbox['xmin']),int(bbox['ymin']),int(bbox['xmax']),int(bbox['ymax'])\n",
    "    cv2.rectangle(image, (xmin, ymin), (xmax, ymax), (255,0,0), 5)\n",
    "image = cv2.resize(image, (1024, 1024))\n",
    "cv2.imshow('a',image)\n",
    "cv2.waitKey(0) # 0==wait forever"
   ]
  },
  {
   "cell_type": "markdown",
   "id": "367be864",
   "metadata": {},
   "source": [
    "# Create Dataset"
   ]
  },
  {
   "cell_type": "code",
   "execution_count": 1,
   "id": "1f6fc981",
   "metadata": {},
   "outputs": [],
   "source": [
    "from PIL import Image\n",
    "\n",
    "# im1 = Image.open(r'path where the PNG is stored\\file name.png')\n",
    "# im1.save(r'path where the JPG will be stored\\new file name.jpg')"
   ]
  },
  {
   "cell_type": "code",
   "execution_count": 4,
   "id": "16f80a4e",
   "metadata": {},
   "outputs": [],
   "source": [
    "Label_target_path = 'D:\\TrafficSign\\Mapillary\\Data\\Labels'\n",
    "Image_target_path = 'D:\\TrafficSign\\Mapillary\\Data\\Images'"
   ]
  },
  {
   "cell_type": "code",
   "execution_count": 9,
   "id": "46792878",
   "metadata": {
    "scrolled": true
   },
   "outputs": [
    {
     "name": "stderr",
     "output_type": "stream",
     "text": [
      "100%|████████████████████████████████████████████████████████████████████████████| 5617/5617 [00:01<00:00, 4368.29it/s]\n"
     ]
    }
   ],
   "source": [
    "list_dir = os.listdir(Image_target_path)\n",
    "for i in tqdm(range(len(list_dir))):\n",
    "    if list_dir[i].split('.')[-1] == 'png':\n",
    "        im1 = Image.open(os.path.join(Image_target_path,list_dir[i]))\n",
    "        im1 = im1.convert('RGB')\n",
    "        im1.save(os.path.join(Image_target_path,list_dir[i].replace('png','jpg')))"
   ]
  },
  {
   "cell_type": "code",
   "execution_count": 149,
   "id": "ec9321f5",
   "metadata": {},
   "outputs": [],
   "source": [
    "image_path = 'D:\\TrafficSign\\Mapillary\\Data\\Images'\n",
    "image_list = np.array(os.listdir(image_path))\n",
    "label_path = 'D:\\TrafficSign\\Mapillary\\Data\\Labels'\n",
    "label_list = np.array(os.listdir(label_path))"
   ]
  },
  {
   "cell_type": "code",
   "execution_count": 150,
   "id": "fd726d4e",
   "metadata": {},
   "outputs": [],
   "source": [
    "shuffle_ind = np.random.choice(np.arange(len(image_list)),size = (len(image_list)),replace = False)"
   ]
  },
  {
   "cell_type": "code",
   "execution_count": 151,
   "id": "015ddd35",
   "metadata": {},
   "outputs": [],
   "source": [
    "image_list = image_list[shuffle_ind]\n",
    "label_list = label_list[shuffle_ind]"
   ]
  },
  {
   "cell_type": "code",
   "execution_count": 152,
   "id": "dfb05874",
   "metadata": {},
   "outputs": [],
   "source": [
    "split_ratio = [7,2,1] # train,val,test"
   ]
  },
  {
   "cell_type": "code",
   "execution_count": 153,
   "id": "1e9ffafe",
   "metadata": {},
   "outputs": [],
   "source": [
    "train_len = int(len(image_list)*0.7)\n",
    "val_len = int(len(image_list)*0.2)\n",
    "test_len = len(image_list) - train_len - val_len"
   ]
  },
  {
   "cell_type": "code",
   "execution_count": 154,
   "id": "e05b0156",
   "metadata": {
    "scrolled": true
   },
   "outputs": [
    {
     "name": "stderr",
     "output_type": "stream",
     "text": [
      "100%|██████████████████████████████████████████████████████████████████████████████| 3342/3342 [02:06<00:00, 26.32it/s]\n"
     ]
    }
   ],
   "source": [
    "for i in tqdm(range(train_len)):\n",
    "    shutil.copy(os.path.join(image_path,image_list[i]), os.path.join(r'D:\\TrafficSign\\Mapillary\\SplitedData\\images\\train',image_list[i]))\n",
    "    shutil.copy(os.path.join(label_path,label_list[i]), os.path.join(r'D:\\TrafficSign\\Mapillary\\SplitedData\\labels\\train',label_list[i]))"
   ]
  },
  {
   "cell_type": "code",
   "execution_count": 155,
   "id": "3212d3f2",
   "metadata": {},
   "outputs": [
    {
     "name": "stderr",
     "output_type": "stream",
     "text": [
      "100%|████████████████████████████████████████████████████████████████████████████████| 955/955 [00:38<00:00, 24.74it/s]\n"
     ]
    }
   ],
   "source": [
    "for i in tqdm(range(train_len,train_len+val_len)):\n",
    "    shutil.copy(os.path.join(image_path,image_list[i]), os.path.join(r'D:\\TrafficSign\\Mapillary\\SplitedData\\images\\val',image_list[i]))\n",
    "    shutil.copy(os.path.join(label_path,label_list[i]), os.path.join(r'D:\\TrafficSign\\Mapillary\\SplitedData\\labels\\val',label_list[i]))"
   ]
  },
  {
   "cell_type": "code",
   "execution_count": 156,
   "id": "69df0378",
   "metadata": {},
   "outputs": [
    {
     "name": "stderr",
     "output_type": "stream",
     "text": [
      "100%|████████████████████████████████████████████████████████████████████████████████| 478/478 [00:19<00:00, 24.29it/s]\n"
     ]
    }
   ],
   "source": [
    "for i in tqdm(range(train_len+val_len,len(image_list))):\n",
    "    shutil.copy(os.path.join(image_path,image_list[i]), os.path.join(r'D:\\TrafficSign\\Mapillary\\SplitedData\\images\\test',image_list[i]))\n",
    "    shutil.copy(os.path.join(label_path,label_list[i]), os.path.join(r'D:\\TrafficSign\\Mapillary\\SplitedData\\labels\\test',label_list[i]))"
   ]
  },
  {
   "cell_type": "code",
   "execution_count": null,
   "id": "dd23f385",
   "metadata": {},
   "outputs": [],
   "source": []
  },
  {
   "cell_type": "markdown",
   "id": "c8c8bf84",
   "metadata": {},
   "source": [
    "# Resize"
   ]
  },
  {
   "cell_type": "code",
   "execution_count": 167,
   "id": "b75317eb",
   "metadata": {},
   "outputs": [
    {
     "name": "stderr",
     "output_type": "stream",
     "text": [
      "100%|████████████████████████████████████████████████████████████████████████████████| 478/478 [00:41<00:00, 11.39it/s]\n"
     ]
    }
   ],
   "source": [
    "tar_path = r'D:\\TrafficSign\\custom_dataset\\images\\test'\n",
    "img_list = os.listdir(tar_path)\n",
    "for i in tqdm(range(len(img_list))):\n",
    "    image = cv2.imread(os.path.join(tar_path,img_list[i]))\n",
    "    image = cv2.resize(image, (1280, 1280))\n",
    "    cv2.imwrite(os.path.join(tar_path,img_list[i]),image)"
   ]
  },
  {
   "cell_type": "code",
   "execution_count": null,
   "id": "71feceb9",
   "metadata": {},
   "outputs": [],
   "source": [
    "image = cv2.imread(os.path.join(r'D:\\TrafficSign\\Mapillary\\Data\\Images_S',image_name))"
   ]
  },
  {
   "cell_type": "code",
   "execution_count": 163,
   "id": "830f3e21",
   "metadata": {},
   "outputs": [
    {
     "data": {
      "text/plain": [
       "-1"
      ]
     },
     "execution_count": 163,
     "metadata": {},
     "output_type": "execute_result"
    }
   ],
   "source": [
    "label_name = label_list[1254]\n",
    "image_name = label_name.replace('txt','jpg')\n",
    "image = cv2.imread(os.path.join(r'D:\\TrafficSign\\custom_dataset\\images\\train',image_name))\n",
    "image = cv2.resize(image, (1280, 1280))\n",
    "file_path = os.path.join(r'D:\\TrafficSign\\custom_dataset\\labels\\train',label_name)\n",
    "with open(file_path, 'r') as f:\n",
    "    lines = f.readlines()\n",
    "lines = [line.strip() for line in lines]\n",
    "\n",
    "for i in range(len(lines)):\n",
    "    label_test = lines[i].split(' ')\n",
    "    bbox = np.array(label_test[1:]).astype(np.float32)\n",
    "    x1 = int((bbox[0] - 0.5 * bbox[2]) * image.shape[1])\n",
    "    y1 = int((bbox[1] - 0.5 * bbox[3]) * image.shape[0])\n",
    "    x2 = int((bbox[0] + 0.5 * bbox[2]) * image.shape[1])\n",
    "    y2 = int((bbox[1] + 0.5 * bbox[3]) * image.shape[0])\n",
    "    cv2.rectangle(image, (x1, y1), (x2, y2), (255,0,0), 3)\n",
    "\n",
    "cv2.imshow('a',image)\n",
    "cv2.waitKey(0) # 0==wait forever\n"
   ]
  },
  {
   "cell_type": "code",
   "execution_count": 164,
   "id": "efe033dc",
   "metadata": {},
   "outputs": [
    {
     "data": {
      "text/plain": [
       "True"
      ]
     },
     "execution_count": 164,
     "metadata": {},
     "output_type": "execute_result"
    }
   ],
   "source": [
    "cv2.imwrite(r'D:\\TrafficSign\\test.jpg',image)"
   ]
  }
 ],
 "metadata": {
  "kernelspec": {
   "display_name": "Python 3 (ipykernel)",
   "language": "python",
   "name": "python3"
  },
  "language_info": {
   "codemirror_mode": {
    "name": "ipython",
    "version": 3
   },
   "file_extension": ".py",
   "mimetype": "text/x-python",
   "name": "python",
   "nbconvert_exporter": "python",
   "pygments_lexer": "ipython3",
   "version": "3.11.0"
  }
 },
 "nbformat": 4,
 "nbformat_minor": 5
}
